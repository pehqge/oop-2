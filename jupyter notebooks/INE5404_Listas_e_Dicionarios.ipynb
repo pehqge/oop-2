{
 "cells": [
  {
   "cell_type": "markdown",
   "metadata": {
    "colab_type": "text",
    "id": "qnZlOOl5lqam",
    "slideshow": {
     "slide_type": "-"
    }
   },
   "source": [
    "## INE5404 - Programação Orientada a Objetos II - Listas e Dicionários\n",
    "### Operações básicas e exemplos executáveis\n",
    "##### Prof. Jônata Tyska Carvalho\n",
    "\n",
    ">This work is licensed under CC BY-NC-SA 4.0. To view a copy of this license, visit https://creativecommons.org/licenses/by-nc-sa/4.0 <br>\n",
    ">Você pode adaptar, compartilhar e utilizar este conteúdo, sem fins comerciais, desde que a licença CC BY-NC-SA 4.0 seja mantida e o autor seja citado."
   ]
  },
  {
   "cell_type": "markdown",
   "metadata": {
    "colab_type": "text",
    "id": "ld_zC5T2F3KV"
   },
   "source": [
    "Lembre-se que este é um documento interativo. Todos os exemplos de código nele contidos podem e devem ser executados (botão 'play' ao lado de cada código ou shift+enter) para que você possa ver os conceitos apresentados funcionando na prática. \n",
    "\n",
    "Sinta-se motivado a executar os exemplos múltiplas vezes, modificá-los adicionando e testando novas funcionalidades. Tente criar e testar hipóteses prevendo qual será o resultado da execução dos códigos com as suas alterações. Caso suas alterações causem erros, tente entender os erros causados e como corrigí-los. Considere este documento não apenas como uma aula, mas também como um ambiente interativo de experimentação e descoberta. \n",
    "\n",
    "Lembre-se que aprender a programar requer prática e dedicação. Discuta problemas e ideias com os colegas através do fórum do Moodle, e não deixe de nos contatar caso tenha dúvidas ou dificuldades. Bons estudos!"
   ]
  },
  {
   "cell_type": "markdown",
   "metadata": {
    "colab_type": "text",
    "id": "ZAoNhYPpmKUZ"
   },
   "source": [
    "### **Listas**"
   ]
  },
  {
   "cell_type": "markdown",
   "metadata": {
    "colab_type": "text",
    "id": "cF1tz6_-y2PB"
   },
   "source": [
    "#### Declaração de listas"
   ]
  },
  {
   "cell_type": "markdown",
   "metadata": {
    "colab_type": "text",
    "id": "EBB5rps0s_gP"
   },
   "source": [
    "Listas são declaradas no momento da atribuição de valores, assim como as demais variáveis em Python. É possível declarar uma lista vazia, sem elementos, ou uma lista que começa com um certo número de elementos. O símbolo utilizado para representar listas é o colchete. Veja abaixo alguns exemplos de declaração de listas.\n"
   ]
  },
  {
   "cell_type": "code",
   "execution_count": null,
   "metadata": {
    "colab": {},
    "colab_type": "code",
    "id": "7GRFUME_tYZ2"
   },
   "outputs": [],
   "source": [
    "#declarando uma lista vazia\n",
    "lista = []\n",
    "print(lista)"
   ]
  },
  {
   "cell_type": "code",
   "execution_count": null,
   "metadata": {
    "colab": {},
    "colab_type": "code",
    "id": "om810KhNtfS6"
   },
   "outputs": [],
   "source": [
    "#declarando uma lista com inteiros\n",
    "lista= [3,9,2,1,22]\n",
    "print(lista)"
   ]
  },
  {
   "cell_type": "code",
   "execution_count": null,
   "metadata": {
    "colab": {},
    "colab_type": "code",
    "id": "FvLq81NPthX-"
   },
   "outputs": [],
   "source": [
    "#declarando uma lista com floats\n",
    "lista=[1.1,2.0,3,9,15.2]\n",
    "print(lista)"
   ]
  },
  {
   "cell_type": "code",
   "execution_count": null,
   "metadata": {
    "colab": {},
    "colab_type": "code",
    "id": "4ug3KDEFtj4c"
   },
   "outputs": [],
   "source": [
    "#declarando uma lista com inteiros, floats e caracteres\n",
    "lista=[7.2,\"a\",5,9.7,\"casa\"]\n",
    "print(lista)"
   ]
  },
  {
   "cell_type": "markdown",
   "metadata": {
    "colab_type": "text",
    "id": "JjvW-LMqx7kc"
   },
   "source": [
    "Perceba como nos primeiros exemplos, apesar de muitos valores terem sido colocados na lista, todos eles pertenciam a um mesmo tipo de dado (inteiros ou floats). \n",
    "\n",
    "Entretanto o último exemplo mostra como as listas em Python são flexíveis (heterogêneas), permitindo o armazenamento de múltiplos tipos dados em uma mesma variável.\n",
    "\n",
    "Note que as listas podem armazenar qualquer tipo de dado, incluindo outras listas. Matrizes em Python são nativamente representadas desta forma, usando listas de listas. Por exemplo, uma matriz bidimensional de 3 linhas por 3 colunas, é representada em Python através de uma lista que armazena 3 listas, tendo cada uma destas listas 3 elementos. Cada lista armazenada é uma linha da matriz, enquanto cada elemento destas listas é uma coluna daquela linha. Veja o exemplo abaixo. "
   ]
  },
  {
   "cell_type": "code",
   "execution_count": null,
   "metadata": {
    "colab": {},
    "colab_type": "code",
    "id": "F-g6HEb4zOxd"
   },
   "outputs": [],
   "source": [
    "#representação de matriz usando listas - perceba que as quebras de linha foram inseridas apenas para uma maior clareza, elas não são necessárias\n",
    "matriz=[\n",
    "        [1,2,3],\n",
    "        [4,5,6],\n",
    "        [7,8,9]\n",
    "       ]\n",
    "print(matriz)"
   ]
  },
  {
   "cell_type": "markdown",
   "metadata": {
    "colab_type": "text",
    "id": "hhCaLj-ub0hm"
   },
   "source": [
    "#### Acessando elementos de uma lista\n"
   ]
  },
  {
   "cell_type": "markdown",
   "metadata": {
    "colab_type": "text",
    "id": "LA_ZlZvdyvgM"
   },
   "source": [
    "\n",
    "O elementos de uma lista são acessados pelo nome da variável, seguido de um ou mais índices (no caso de listas de listas) entre colchetes. Ver a tabela e o exemplo abaixo.\n",
    "\n",
    "Para o exemplo abaixo temos:\n",
    "\n",
    "```\n",
    "lista=[7.2,\"a\",5,9.7,\"casa\",\"100\"]\n",
    "```\n",
    "\n",
    "Índice:| 0 | 1 | 2 | 3 | 4 | 5 \n",
    "--- | --- | --- | --- | --- | ---| --- | \n",
    "valor:|7.2|\"a\"|5|9.7|\"casa\"|100|"
   ]
  },
  {
   "cell_type": "code",
   "execution_count": null,
   "metadata": {
    "colab": {},
    "colab_type": "code",
    "id": "_AEdDvog2R5f"
   },
   "outputs": [],
   "source": [
    "lista=[7.2,\"a\",5,9.7,\"casa\",\"100\"]\n",
    "print(lista[2])\n",
    "print(lista[3])\n",
    "print(lista[4])"
   ]
  },
  {
   "cell_type": "markdown",
   "metadata": {
    "colab_type": "text",
    "id": "8PwE0u0njvwS"
   },
   "source": [
    "Fique atento para que seus programas não tentem acessar índices inexistentes em uma lista, isso irá gerar um erro como mostrado no exemplo abaixo."
   ]
  },
  {
   "cell_type": "code",
   "execution_count": null,
   "metadata": {
    "colab": {},
    "colab_type": "code",
    "id": "ZXdVetdOkLa_"
   },
   "outputs": [],
   "source": [
    "lista=[10,22,35]\n",
    "print(f\"Primeiro elemento {lista[0]}\")\n",
    "print(f\"Segundo elemento {lista[1]}\")\n",
    "print(f\"Terceiro elemento {lista[2]}\")\n",
    "print(lista[3])#!!!! índice inexistente, irá gerar um erro"
   ]
  },
  {
   "cell_type": "markdown",
   "metadata": {
    "colab_type": "text",
    "id": "G2j_Hz_1238f"
   },
   "source": [
    "Quando temos listas dentro de listas como no exemplo abaixo, temos diversas possibilidades de acesso. Se utilizarmos apenas o nome da variável, sem índices, acessamos todos os valores simultamente. Ao utilizar apenas um índice, acessamos todos os valores de uma determinada linha. E por fim, ao utilizar dois índices, o primeiro se refere a uma determinada linha, e o segundo a um elemento dela, como mostra o exemplo abaixo.\n",
    "\n",
    "```\n",
    "matriz=[[1, 2, 3], [4, 5, 6], [7, 8, 9]]\n",
    "```\n",
    "\n",
    "Índice:| 0 | 1 | 2  \n",
    "--- | --- | --- | --- | \n",
    "valor:|[1, 2, 3]|[4, 5, 6]|[7, 8, 9]"
   ]
  },
  {
   "cell_type": "code",
   "execution_count": null,
   "metadata": {
    "colab": {},
    "colab_type": "code",
    "id": "Xmo-6BtE2oGP"
   },
   "outputs": [],
   "source": [
    "matriz=[\n",
    "        [1,2,3],\n",
    "        [4,5,6],\n",
    "        [7,8,9]\n",
    "       ]\n",
    "#mostrando todos os elementos\n",
    "print(matriz)\n",
    "#mostrando uma linha por vez\n",
    "print(f\"Linha 1={matriz[0]}\")\n",
    "print(f\"Linha 2={matriz[1]}\")\n",
    "print(f\"Linha 3={matriz[2]}\")\n",
    "#mostrando o segundo elemento terceira linha\n",
    "print(f'Este é o segundo elemento da terceira linha: {matriz[2][1]}')"
   ]
  },
  {
   "cell_type": "code",
   "execution_count": null,
   "metadata": {
    "colab": {},
    "colab_type": "code",
    "id": "_aK9OKFhRjur"
   },
   "outputs": [],
   "source": [
    "#exemplo que percorre e imprime a matriz com dois whiles - não esqueça de executar primeiro a célula anterior que declara a matriz\n",
    "i=0\n",
    "while i<3:\n",
    "    j=0\n",
    "    while j<3:\n",
    "        print(f\"{matriz[i][j]} \",end=\"\") #dica: ao utilizar o parâmetro end=\"\" realizamos o print sem quebra de linha\n",
    "        j=j+1\n",
    "    print() #este print serve para realizar a quebra de linha a cada linha da matriz\n",
    "    i=i+1"
   ]
  },
  {
   "cell_type": "code",
   "execution_count": null,
   "metadata": {
    "colab": {},
    "colab_type": "code",
    "id": "ZWD5FFWjQibn"
   },
   "outputs": [],
   "source": [
    "#exemplo que percorre e imprime a matriz utilizando dois laços de repetição for - perceba como o codigo fica bem mais simples\n",
    "for linha in matriz:\n",
    "    for valorColuna in linha:\n",
    "        print(f\"{valorColuna} \",end=\"\") \n",
    "    print()"
   ]
  },
  {
   "cell_type": "markdown",
   "metadata": {
    "colab_type": "text",
    "id": "vrNuVWwicGxf"
   },
   "source": [
    "#### Modificando valores em uma lista"
   ]
  },
  {
   "cell_type": "markdown",
   "metadata": {
    "colab_type": "text",
    "id": "pPTMQeZMS2sN"
   },
   "source": [
    "Você percebeu que acessamos aos elementos de uma lista da mesma forma que acessamos os caracteres de uma string? Isso mesmo, usamos índices para acessar tantos os elementos de uma lista, quanto os caracteres de uma string. Com uma lista porém, diferente das strings que não nos permitem modificar caracteres individualmente, é possível modificar os elementos da lista fazendo uma atribuição a posição desejada, conforme mostra o exemplo abaixo."
   ]
  },
  {
   "cell_type": "markdown",
   "metadata": {
    "colab_type": "text",
    "id": "YR7Z7Yr8TKl9"
   },
   "source": [
    "**Exemplo 1.** Recebe 5 valores informados pelo usuário, e ao final mostra a soma e a média dos valores\n"
   ]
  },
  {
   "cell_type": "code",
   "execution_count": null,
   "metadata": {
    "colab": {},
    "colab_type": "code",
    "id": "uD50mkz_tCTP"
   },
   "outputs": [],
   "source": [
    "contador=0\n",
    "soma=0\n",
    "listaValor=[0,0,0,0,0] #inicializamos a lista com valores 0\n",
    "while contador<5:\n",
    "    valor=float(input(f\"Digite um valor numérico ({contador+1} de 5): \"))\n",
    "    listaValor[contador]=valor #modificamos o valor atribuído inicialmente pelo valor informado pelo usuário\n",
    "    soma=soma+valor\n",
    "    contador=contador+1\n",
    "print(f\"O usuário informou os seguintes valores: {listaValor}\")\n",
    "print(f\"A soma desta valores é {soma} e a média é {soma/contador}\") #perceba como é possível utilizar expressões com o formato f-string"
   ]
  },
  {
   "cell_type": "markdown",
   "metadata": {
    "colab_type": "text",
    "id": "C4b1WNFZWlp_"
   },
   "source": [
    "#### Fatiamento (slicing) de listas"
   ]
  },
  {
   "cell_type": "markdown",
   "metadata": {
    "colab_type": "text",
    "id": "wz1QG_-ccP3x"
   },
   "source": [
    "Assim como as strings, as listas em Python permitem a realização do fatiamento ou *slicing*, permitindo o acesso a partes específicas das listas. Através da especificação de um índice inicial e final, separados por dois pontos, podemos acessar parte da lista contida no intervalo informado, conforme mostra o exemplo abaixo."
   ]
  },
  {
   "cell_type": "code",
   "execution_count": null,
   "metadata": {
    "colab": {},
    "colab_type": "code",
    "id": "qhU4iF17XoVi"
   },
   "outputs": [],
   "source": [
    "lista=[1,2,3,4,5,6,7,8,9]\n",
    "print(lista[2:5]) #lembre-se que o fatiamento considera o intervalo [inicio,fim), isto é, fechado no início e aberto no fim"
   ]
  },
  {
   "cell_type": "markdown",
   "metadata": {
    "colab_type": "text",
    "id": "heD-dLyUX-wK"
   },
   "source": [
    "O fatiamento de listas funciona exatamente da mesma forma como nas strings, com a diferença que podemos modificar valores específicos da lista usando o fatiamento, veja o exemplo abaixo."
   ]
  },
  {
   "cell_type": "code",
   "execution_count": null,
   "metadata": {
    "colab": {},
    "colab_type": "code",
    "id": "MnFkq-EAYPD7"
   },
   "outputs": [],
   "source": [
    "lista=[1,2,3,4,5,6,7,8,9]\n",
    "lista[2:5]=[30,40,50]\n",
    "print(lista)"
   ]
  },
  {
   "cell_type": "markdown",
   "metadata": {
    "colab_type": "text",
    "id": "tAxXkt6gYoHO"
   },
   "source": [
    "#### Cópia de listas"
   ]
  },
  {
   "cell_type": "markdown",
   "metadata": {
    "colab_type": "text",
    "id": "jY1QXmVIYq8h"
   },
   "source": [
    "É muito importante entender o comportamento da cópia de listas em Python. Ao copiar uma lista atribuindo uma determinada variável a outra, como mostra o exemplo abaixo, estamos na verdade apontando as duas variáveis para o mesmo endereço de memória. Assim, ao alterarmos o valor de uma variável, estaremos alterando também o valor da outra, pois as duas apontam para o mesmo endereço da memória. \n"
   ]
  },
  {
   "cell_type": "code",
   "execution_count": null,
   "metadata": {
    "colab": {},
    "colab_type": "code",
    "id": "HnpGCutZZOC8"
   },
   "outputs": [],
   "source": [
    "lista1=[1,2,3,4,5]\n",
    "\n",
    "print(f\"A variável lista1 começa com estes valores {lista1}\")\n",
    "\n",
    "lista2=lista1 #ao fazer isso estamos apontando as duas variáveis, lista1 e lista2, para o mesmo endereço de memória\n",
    "\n",
    "lista2[0]=100 #desta forma, ao alterarmos o primeiro valor de lista2, estaremos alterando também o primeiro valor de lista1\n",
    "\n",
    "print(f\"Os valores de lista2 após a alteração são {lista2}\")\n",
    "print(f\"Os valores de lista1 agora são {lista1}\")"
   ]
  },
  {
   "cell_type": "markdown",
   "metadata": {
    "colab_type": "text",
    "id": "gVTBGfxoaAGZ"
   },
   "source": [
    "É muito importante que você se lembre deste comportamento ao escrever os seus programas. Você deve estar se perguntando \"e como eu faço para efetivamente copiar uma lista?\", não é mesmo? Uma das possibilidades é utilizar o fatiamento para realizar tal operação. Lembre-se que se não especificarmos o primeiro ou o último elemento do fatiamento estamos nos referindo ao primeiro e ao último elemento da lista. Assim, ao não informar ambos, estamos acessando todos os valores de uma lista, que são assim devidamente copiados para outra variável como mostra o exemplo abaixo. "
   ]
  },
  {
   "cell_type": "code",
   "execution_count": null,
   "metadata": {
    "colab": {},
    "colab_type": "code",
    "id": "9jgh4K-hbNar"
   },
   "outputs": [],
   "source": [
    "lista1=[1,2,3,4,5]\n",
    "\n",
    "print(f\"A variável lista1 começa com estes valores {lista1}\")\n",
    "\n",
    "lista2=lista1[:] #perceba que estamos utilizando o fatiamento sem especificar o índice inicial e final, retornando assim uma cópia da lista\n",
    "\n",
    "lista2[0]=100 #nesse caso estamos efetivamente alterando a cópia da lista1, e não mais o mesmo endereço da memória como no exemplo anterior\n",
    "\n",
    "print(f\"Os valores de lista2 após a alteração são {lista2}\")\n",
    "print(f\"Os valores de lista1 continuam sendo {lista1}\")"
   ]
  },
  {
   "cell_type": "markdown",
   "metadata": {
    "colab_type": "text",
    "id": "6unrk0dRg0ny"
   },
   "source": [
    "#### Tamanho de listas"
   ]
  },
  {
   "cell_type": "markdown",
   "metadata": {
    "colab_type": "text",
    "id": "sbiyRfA-g3uI"
   },
   "source": [
    "Novamente, assim como a função *len* retorna o tamanho de uma string, essa mesma função retorna o tamanho de uma lista, como mostram os exemplos abaixo. "
   ]
  },
  {
   "cell_type": "code",
   "execution_count": null,
   "metadata": {
    "colab": {},
    "colab_type": "code",
    "id": "z065VoDMhM5L"
   },
   "outputs": [],
   "source": [
    "lista=[50,40,30,20,10]\n",
    "tamanhoLista=len(lista)\n",
    "print(f\"O tamanho da lista é {tamanhoLista}\")"
   ]
  },
  {
   "cell_type": "markdown",
   "metadata": {
    "colab_type": "text",
    "id": "d3CDbMgfhcdw"
   },
   "source": [
    "A função len é frequentemente utilizada ao utilizar um while para percorrer uma lista da qual não sabemos o tamanho, assim garantimos que não vamos tentar acessar um índice que não existe na lista. Veja o exemplo do código abaixo."
   ]
  },
  {
   "cell_type": "code",
   "execution_count": 1,
   "metadata": {
    "colab": {},
    "colab_type": "code",
    "id": "SFv3IDsylITN",
    "tags": []
   },
   "outputs": [
    {
     "name": "stdout",
     "output_type": "stream",
     "text": [
      "Elemento 1 = 33\n",
      "Elemento 2 = 66\n",
      "Elemento 3 = 99\n",
      "Elemento 4 = 132\n"
     ]
    }
   ],
   "source": [
    "lista=[33,66,99,132] #note que você pode remover ou adicionar elementos da lista e o programa continuará funcionando\n",
    "pos=0\n",
    "while pos<len(lista):\n",
    "    print(f\"Elemento {pos+1} = {lista[pos]}\")\n",
    "    pos=pos+1"
   ]
  },
  {
   "cell_type": "markdown",
   "metadata": {
    "colab_type": "text",
    "id": "yCit3Kflg4IJ"
   },
   "source": [
    "#### Adição de elementos em uma lista"
   ]
  },
  {
   "cell_type": "markdown",
   "metadata": {
    "colab_type": "text",
    "id": "w9IZeZnQg5ro"
   },
   "source": [
    "Muitas vezes é necessário adicionar novos elementos a uma lista, e isso é possível em Python através da função append. \n"
   ]
  },
  {
   "cell_type": "code",
   "execution_count": null,
   "metadata": {
    "colab": {},
    "colab_type": "code",
    "id": "iaaOSSHQnnRz"
   },
   "outputs": [],
   "source": [
    "lista=[]#declara uma lista vazia\n",
    "lista.append(5)\n",
    "lista.append(18)\n",
    "print(lista)"
   ]
  },
  {
   "cell_type": "code",
   "execution_count": 2,
   "metadata": {
    "colab": {},
    "colab_type": "code",
    "id": "P_Ew3iU8nt1Z",
    "tags": []
   },
   "outputs": [
    {
     "name": "stdin",
     "output_type": "stream",
     "text": [
      "Digite um valor numérico (digite 0 para encerrar):  23\n",
      "Digite um valor numérico (digite 0 para encerrar):  4\n",
      "Digite um valor numérico (digite 0 para encerrar):  5\n",
      "Digite um valor numérico (digite 0 para encerrar):  7\n",
      "Digite um valor numérico (digite 0 para encerrar):  0\n"
     ]
    },
    {
     "name": "stdout",
     "output_type": "stream",
     "text": [
      "O usuário informou 4 valor(es), a soma deste(s) é 39.0 e a média é 9.8\n",
      "Os valores informados pelo usuário foram: [23.0, 4.0, 5.0, 7.0]\n"
     ]
    }
   ],
   "source": [
    "#programa que lê um número de valores indefinidos informados pelo usuário até que ele digite 0, e imprime a soma, a média e o número de valores\n",
    "listaValores=[] #declara uma lista vazia\n",
    "soma=0 \n",
    "while True:\n",
    "    valor=float(input(\"Digite um valor numérico (digite 0 para encerrar): \"))\n",
    "    if valor==0:\n",
    "        break; #lembre-se que a instrução break interrompe explicitamente um laço de repetição\n",
    "    listaValores.append(valor) #adiciona o valor informado à lista\n",
    "    soma=soma+valor\n",
    "numeroValores=len(listaValores) #usa a função len para verificar o número de valores na lista\n",
    "print(f\"O usuário informou {numeroValores} valor(es), a soma deste(s) é {soma:.1f} e a média é {soma/numeroValores:.1f}\")\n",
    "print(f\"Os valores informados pelo usuário foram: {listaValores}\")"
   ]
  },
  {
   "cell_type": "markdown",
   "metadata": {
    "colab_type": "text",
    "id": "xmS4ljD9r2dO"
   },
   "source": [
    "É possível adicionar elementos em uma lista através do operador + (soma). Note que neste caso não estamos realizando operações matemáticas, quando os operandos do operador + são listas, a operação realizada é similar à concatenação de strings, porém estamos concatenando listas. Veja exemplos a seguir."
   ]
  },
  {
   "cell_type": "code",
   "execution_count": null,
   "metadata": {
    "colab": {},
    "colab_type": "code",
    "id": "xam8XT0_sKIy"
   },
   "outputs": [],
   "source": [
    "lista=[\"a\",1,\"b\",2,\"c\"]\n",
    "print(f\"Lista com valores iniciais {lista}\")\n",
    "lista=lista+[3]\n",
    "print(f\"Lista após a adição de elemento {lista}\")"
   ]
  },
  {
   "cell_type": "code",
   "execution_count": null,
   "metadata": {
    "colab": {},
    "colab_type": "code",
    "id": "26DL55p9sZZE"
   },
   "outputs": [],
   "source": [
    "#exemplo de concatenação de listas\n",
    "lista1=[1,2,3]\n",
    "lista2=[4,5,6]\n",
    "lista3=lista1+lista2\n",
    "print(f\"Listas concatenadas {lista3}\")"
   ]
  },
  {
   "cell_type": "markdown",
   "metadata": {
    "colab_type": "text",
    "id": "pxAgaKGfg6ML"
   },
   "source": [
    "#### Remoção de elementos de uma lista"
   ]
  },
  {
   "cell_type": "markdown",
   "metadata": {
    "colab_type": "text",
    "id": "yVS5WEi1qpMf"
   },
   "source": [
    "Por vezes pode ser necessária a remoção de elementos de uma lista. Da mesma forma que podemos inserir novos elementos a uma lista, podemos também apagar elementos existentes. A sintaxe é um pouco diferente da adição de elementos, para apagar elementos usamos a instrução *del* (alternativa para a função *remove*), que precede o elemento que desejamos remover. Sempre que um elemento da lista é apagado, os índices são reorganizados. Veja abaixo alguns exemplos.\n",
    "\n"
   ]
  },
  {
   "cell_type": "code",
   "execution_count": null,
   "metadata": {
    "colab": {},
    "colab_type": "code",
    "id": "4I8Jth8EqNeW"
   },
   "outputs": [],
   "source": [
    "lista=[\"ABC\",4.7,10,22,\"novo\",33,44]\n",
    "print(f\"Os valores iniciais da lista são {lista}\")\n",
    "print(f\"Valor no índice 5 = {lista[5]}\")\n",
    "del lista[4]\n",
    "print(f\"Elemento de índice 4 apagado, os valores da lista são {lista}\")\n",
    "print(f\"Valor no índice 5 = {lista[5]}\")\n",
    "#tenha cuidado para não tentar acessar índices inexistentes após a remoção de elementos - note que o índice 6 existia antes da remoção, mas não mais após a remoção"
   ]
  },
  {
   "cell_type": "markdown",
   "metadata": {
    "colab_type": "text",
    "id": "SlPcET3WBs73"
   },
   "source": [
    "Perceba que a função *del* pode ser usado também para apagar variáveis simples, isto é, liberar a memória utilizada por ela, e também apagar elementos de outras estruturas de dados, como os dicionários que serão apresentados a seguir."
   ]
  },
  {
   "cell_type": "markdown",
   "metadata": {
    "colab_type": "text",
    "id": "iuaU6loemN0K"
   },
   "source": [
    "### **Dicionários**"
   ]
  },
  {
   "cell_type": "markdown",
   "metadata": {
    "colab_type": "text",
    "id": "wgg3AnWCmNuF"
   },
   "source": [
    "Recapitulando, as listas em Python são estruturas de dados compostas, isto é, permitem o armazenamento de múltiplos valores, heterogêneas, os valores podem ser de diferentes tipos de dados. Para acessar cada elemento de uma lista usamos um índice numérico, mais especificamente um valor inteiro.\n",
    "\n",
    "A linguagem Python oferece um tipo de dado importante chamado de **dicionário**. Os dicionários têm um comportamento similar ao das listas, entretanto além da utilização de índices númericos, eles permitem a utilização de strings (e até mesmo outros tipos de dados (sempre imutáveis)) para indexar valores, criando assim uma estrutura de chaves-valores. Tal estrutura é muito útil em diversas ocasiões, por um exemplo quando queremos armazenar de forma intuitiva os dados da tabela de preços abaixo.\n",
    "\n",
    "Produto|Preço\n",
    "---|---\n",
    "Banana| 2.50\n",
    "Alface| 1.20\n",
    "Tomate| 3.70\n",
    "\n",
    "Os dicionários são representados e declarados utilizando chaves ({}), chaves e valores são separados por dois-pontos (:), e cada par chave-valor é separado por vírgulas (,). Veja a sintaxe abaixo para a declaração de um dicionário.\n",
    "\n",
    "```\n",
    "<variável>={<chave1>:<valo1>,<chave2>:<valor2>, ... ,<chaveN:valorN>}\n",
    "```\n",
    "Veja a seguir um exemplo do código em que a tabela de preços acima é representada utilizando um dicionário. \n"
   ]
  },
  {
   "cell_type": "code",
   "execution_count": null,
   "metadata": {
    "colab": {},
    "colab_type": "code",
    "id": "IKYoVxOGtTDw"
   },
   "outputs": [],
   "source": [
    "tabela={\"Banana\":2.50 ,\"Alface\":1.20,\"Tomate\":3.70}\n",
    "print(f'O preço do tomate é R$ {tabela[\"Tomate\"]:.2f}') "
   ]
  },
  {
   "cell_type": "markdown",
   "metadata": {
    "colab_type": "text",
    "id": "UJGWsqiLvoPD"
   },
   "source": [
    "Como vimos no exemplo acima, o acesso aos elementos de um dicionário é feito de maneira semelhante ao acesso aos elementos de uma lista, com a diferença que utilizamos as chaves como índices, e tais chaves podem ser do tipo string (e outros). Na realidade em um mesmo dicionário podemos ter chaves de tipos diferentes como strings, inteiros e mesmo floats como mostra o exempo abaixo."
   ]
  },
  {
   "cell_type": "code",
   "execution_count": null,
   "metadata": {
    "colab": {},
    "colab_type": "code",
    "id": "4ncAfUT4wYKh"
   },
   "outputs": [],
   "source": [
    "multiChaves={7.2:\"chave do tipo float\",\"segundo valor\":\"chave do tipo string\",9:\"chave do tipo inteiro\"}\n",
    "print(f\"Primeiro elemento: {multiChaves[7.2]}\")\n",
    "print(f\"Segundo elemento: {multiChaves['segundo valor']}\")\n",
    "print(f\"Terceiro elemento: {multiChaves[9]}\")"
   ]
  },
  {
   "cell_type": "markdown",
   "metadata": {
    "colab_type": "text",
    "id": "0CKtCI4VxX3u"
   },
   "source": [
    "#### Adição de elementos em um dicionário\n"
   ]
  },
  {
   "cell_type": "markdown",
   "metadata": {
    "colab_type": "text",
    "id": "_Pjrxz6b03W6"
   },
   "source": [
    "Ao atribuir um valor a um índice (chave) existente de um dicionário, substituímos o valor armazenado anteriormente. Quando atribuimos um valor a um índice inexistente, estamos na realidade adicionando um novo valor ao dicionário, e o índice antes inexistente, passa a referenciar o valor recém atribuído. Veja o exemplo a seguir.\n",
    "\n"
   ]
  },
  {
   "cell_type": "code",
   "execution_count": null,
   "metadata": {
    "colab": {},
    "colab_type": "code",
    "id": "gVzKwTGsxtMA"
   },
   "outputs": [],
   "source": [
    "tabela={\"Banana\":2.50 ,\"Alface\":1.20,\"Tomate\":3.70}\n",
    "print(f\"Tabela inicial = {tabela}\")\n",
    "tabela[\"Feijão\"]=5.20 #adição de elemento\n",
    "tabela[\"Alface\"]=0.95 #alteração de valor\n",
    "print(f'Nova tabela = {tabela}')"
   ]
  },
  {
   "cell_type": "markdown",
   "metadata": {
    "colab_type": "text",
    "id": "PqADvcqxMCze"
   },
   "source": [
    "O operador *in* permite verificar a existência de uma chave em um dicionário. Este operador é bastante útil para a utilização de dicionários como contadores. Veja o exemplo abaixo."
   ]
  },
  {
   "cell_type": "code",
   "execution_count": null,
   "metadata": {
    "colab": {
     "base_uri": "https://localhost:8080/",
     "height": 187
    },
    "colab_type": "code",
    "id": "Im0YLKWeMTqc",
    "outputId": "1c8c5c34-1017-4226-b8af-cffbc69eef4b"
   },
   "outputs": [
    {
     "name": "stdout",
     "output_type": "stream",
     "text": [
      "Digite uma palavra ou 0 para encerrar o programa: casa\n",
      "Digite uma palavra ou 0 para encerrar o programa: bola\n",
      "Digite uma palavra ou 0 para encerrar o programa: sorvete\n",
      "Digite uma palavra ou 0 para encerrar o programa: casa\n",
      "Digite uma palavra ou 0 para encerrar o programa: limão\n",
      "Digite uma palavra ou 0 para encerrar o programa: bola\n",
      "Digite uma palavra ou 0 para encerrar o programa: casinha\n",
      "Digite uma palavra ou 0 para encerrar o programa: casa\n",
      "Digite uma palavra ou 0 para encerrar o programa: 0\n",
      "A contagem de palavras foi a seguinte: {'casa': 3, 'bola': 2, 'sorvete': 1, 'limão': 1, 'casinha': 1}\n"
     ]
    }
   ],
   "source": [
    "#conta o número de vezes que o usuário digitou uma palavra, até que ele digite 0\n",
    "contador={}\n",
    "while True:\n",
    "    palavra=input(\"Digite uma palavra ou 0 para encerrar o programa: \")\n",
    "    if palavra==\"0\":\n",
    "        break;\n",
    "    else:\n",
    "        if palavra in contador: #se a palavra já for uma chave do dicionário, incrementar o contador\n",
    "            contador[palavra]=contador[palavra]+1\n",
    "        else: #se a palavra informada não for uma chave, atribua o valor 1 a ela\n",
    "            contador[palavra]=1\n",
    "print(f\"A contagem de palavras foi a seguinte: {contador}\")"
   ]
  },
  {
   "cell_type": "markdown",
   "metadata": {
    "colab_type": "text",
    "id": "2k4lABhG2mvV"
   },
   "source": [
    "#### Acessando apenas as chaves de um dicionário"
   ]
  },
  {
   "cell_type": "markdown",
   "metadata": {
    "colab_type": "text",
    "id": "dl9MyemU28k8"
   },
   "source": [
    "A função *keys* retorna as chaves de um determinado dicionário, podendo ser utilizada como mostram os exemplos abaixo."
   ]
  },
  {
   "cell_type": "code",
   "execution_count": 3,
   "metadata": {
    "colab": {},
    "colab_type": "code",
    "id": "5QfDzw_l3Huq",
    "tags": []
   },
   "outputs": [
    {
     "name": "stdout",
     "output_type": "stream",
     "text": [
      "dict_keys(['Banana', 'Alface', 'Tomate'])\n"
     ]
    }
   ],
   "source": [
    "tabela={\"Banana\":2.50 ,\"Alface\":1.20,\"Tomate\":3.70}\n",
    "print(tabela.keys())"
   ]
  },
  {
   "cell_type": "markdown",
   "metadata": {
    "colab_type": "text",
    "id": "vIw2W7lp3fZI"
   },
   "source": [
    "Entretanto é importante destacar que a função *keys* não retorna diretamente uma lista em Python, ela retorna um tipo de dado chamado dict_keys. Por esse motivo não é possível utilizar índices para acessar as chaves retornadas. As duas principais formas de acessar tais valores são: (i) convertendo o retorno da função keys para uma lista, e (ii) usando tal retorno em conjunto com um laço de repetição for. Veja exemplos abaixo."
   ]
  },
  {
   "cell_type": "code",
   "execution_count": null,
   "metadata": {
    "colab": {},
    "colab_type": "code",
    "id": "Hb75SBYL3W14"
   },
   "outputs": [],
   "source": [
    "#convertando o retorno da função keys para uma lista\n",
    "tabela={\"Banana\":2.50 ,\"Alface\":1.20,\"Tomate\":3.70}\n",
    "listaChaves = list(tabela.keys())\n",
    "print(f\"Primeira chave: {listaChaves[0]}\")\n",
    "print(f\"Primeira chave: {listaChaves[1]}\")\n",
    "print(f\"Primeira chave: {listaChaves[2]}\")"
   ]
  },
  {
   "cell_type": "code",
   "execution_count": null,
   "metadata": {
    "colab": {},
    "colab_type": "code",
    "id": "5SKKxXHb4klv"
   },
   "outputs": [],
   "source": [
    "#combinando o retorno da função keys com um laço de repetição for\n",
    "tabela={\"Banana\":2.50 ,\"Alface\":1.20,\"Tomate\":3.70}\n",
    "contador=1\n",
    "for chave in tabela.keys():\n",
    "    print(f\"Chave {contador} = {chave}\")\n",
    "    contador=contador+1\n"
   ]
  },
  {
   "cell_type": "markdown",
   "metadata": {
    "colab_type": "text",
    "id": "ByLWmlwt20X0"
   },
   "source": [
    "#### Acessando apenas os valores de um dicionário"
   ]
  },
  {
   "cell_type": "markdown",
   "metadata": {
    "colab_type": "text",
    "id": "gbIuupDQ8dWg"
   },
   "source": [
    "De forma análoga a função *keys*, a função *values* retorna apenas os valores de um dicionário. Lembre-se, assim como a função *keys*, o retorno da função *values* não é uma lista, e sim um tipo específico chamado dict_values. Assim, para acessar cada elemento usa-se a conversão dele para listas, ou usa-se um laço de repetição for. "
   ]
  },
  {
   "cell_type": "code",
   "execution_count": 4,
   "metadata": {
    "colab": {},
    "colab_type": "code",
    "id": "PLk1Mx9L8eAp",
    "tags": []
   },
   "outputs": [
    {
     "name": "stdout",
     "output_type": "stream",
     "text": [
      "Valor = Sala de aula\n",
      "Valor = Secretaria\n",
      "Valor = Auditório\n"
     ]
    }
   ],
   "source": [
    "#acessando apenas os valores de um dicionário\n",
    "dicionario={202:\"Sala de aula\",101:\"Secretaria\",103:\"Auditório\"}\n",
    "for valor in dicionario.values():\n",
    "    print(f\"Valor = {valor}\")"
   ]
  },
  {
   "cell_type": "markdown",
   "metadata": {
    "colab_type": "text",
    "id": "Tg0kDUKV9_aK"
   },
   "source": [
    "#### Iterando chaves e valores de um dicionário\n",
    "A função *items* retorna todos os pares de chave-vaor contidos em um dicionário. Ao combiná-la com um laço de repetição for, por exemplo, é possível percorrer cada elemento de um dicionário, acessando ambos chave e valor de cada elemento. Veja o exemplo abaixo."
   ]
  },
  {
   "cell_type": "code",
   "execution_count": null,
   "metadata": {
    "colab": {},
    "colab_type": "code",
    "id": "mBYRqU3299vi"
   },
   "outputs": [],
   "source": [
    "tabela={\"Banana\":2.50 ,\"Alface\":1.20,\"Tomate\":3.70}\n",
    "for chave,valor in tabela.items():\n",
    "    print(f\"Compre {chave} por apenas R$ {valor:.2f}\")"
   ]
  },
  {
   "cell_type": "markdown",
   "metadata": {
    "colab_type": "text",
    "id": "AViMdR9526V8"
   },
   "source": [
    "#### Cópia de dicionários\n"
   ]
  },
  {
   "cell_type": "markdown",
   "metadata": {
    "colab_type": "text",
    "id": "pg-rjb388fo6"
   },
   "source": [
    "Note que da mesma forma como acontece com as listas, ao atribuirmos um dicionário a uma outra variável, estamos apenas apontando as duas variáveis para o mesmo endereço de memória. Assim para realizar a cópia de um dicionário usa-se a função *copy* (em caso de múltiplos níveis, lembre de usar *deepcopy*), veja exemplos abaixo."
   ]
  },
  {
   "cell_type": "code",
   "execution_count": null,
   "metadata": {
    "colab": {},
    "colab_type": "code",
    "id": "xNy2WjK3vfqr"
   },
   "outputs": [],
   "source": [
    "#atribuição simples faz as variáveis apontarem para o mesmo endereço de memória\n",
    "dic1={202:\"Sala de aula\",101:\"Secretaria\",103:\"Auditório\"}\n",
    "print(f\"Valores em dic1 antes da mudança {dic1}\")\n",
    "dic2=dic1\n",
    "dic2[202]=\"Mudança de sala - Direção\"\n",
    "print(f\"Valores em dic2 {dic2}\")\n",
    "print(f\"Valores em dic1 {dic1}\")"
   ]
  },
  {
   "cell_type": "code",
   "execution_count": null,
   "metadata": {
    "colab": {},
    "colab_type": "code",
    "id": "DZTmN3iCAfKu"
   },
   "outputs": [],
   "source": [
    "#cópia usando copy cria dois dicionários (duas áreas de memória) diferentes\n",
    "dic1={202:\"Sala de aula\",101:\"Secretaria\",103:\"Auditório\"}\n",
    "print(f\"Valores em dic1 antes da mudança {dic1}\")\n",
    "dic2=dic1.copy() #atribui a dic2 uma cópia do dicionário armazenado na variável dic1\n",
    "dic2[202]=\"Mudança de sala - Direção\"\n",
    "print(f\"Valores em dic2 {dic2}\")\n",
    "print(f\"Valores em dic1 {dic1}\")"
   ]
  }
 ],
 "metadata": {
  "colab": {
   "name": "INE5404 - Programação Orientada a Objetos II - Listas e Dicionários.ipynb",
   "provenance": []
  },
  "kernelspec": {
   "display_name": "Python 3 (ipykernel)",
   "language": "python",
   "name": "python3"
  },
  "language_info": {
   "codemirror_mode": {
    "name": "ipython",
    "version": 3
   },
   "file_extension": ".py",
   "mimetype": "text/x-python",
   "name": "python",
   "nbconvert_exporter": "python",
   "pygments_lexer": "ipython3",
   "version": "3.9.7"
  }
 },
 "nbformat": 4,
 "nbformat_minor": 4
}
